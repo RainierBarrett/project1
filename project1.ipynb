{
 "cells": [
  {
   "cell_type": "code",
   "execution_count": 3,
   "metadata": {
    "collapsed": false
   },
   "outputs": [],
   "source": [
    "import numpy as np\n",
    "import matplotlib.pyplot as plt\n",
    "def get_modulus(fname):\n",
    "    a = np.genfromtxt(fname, skip_header=1, delimiter=',')\n",
    "    stop = 10\n",
    "    x = a[:stop,0]\n",
    "    y = a[:stop,1]\n",
    "    a1, a0 = np.polyfit(x, y, 1)\n",
    "    return a1 # young's modulus is our slope!\n",
    "\n",
    "moduli = []\n",
    "for i in range(1000):\n",
    "    fname = 'samples/' + str(i) + '.raw'\n",
    "    moduli.append(get_modulus(fname))"
   ]
  },
  {
   "cell_type": "code",
   "execution_count": 4,
   "metadata": {
    "collapsed": false
   },
   "outputs": [
    {
     "name": "stdout",
     "output_type": "stream",
     "text": [
      "2841676.341589873 896768.5206213011\n"
     ]
    }
   ],
   "source": [
    "print(np.mean(moduli), np.std(moduli))"
   ]
  }
 ],
 "metadata": {
  "anaconda-cloud": {},
  "kernelspec": {
   "display_name": "Python [conda root]",
   "language": "python",
   "name": "conda-root-py"
  },
  "language_info": {
   "codemirror_mode": {
    "name": "ipython",
    "version": 3
   },
   "file_extension": ".py",
   "mimetype": "text/x-python",
   "name": "python",
   "nbconvert_exporter": "python",
   "pygments_lexer": "ipython3",
   "version": "3.5.2"
  }
 },
 "nbformat": 4,
 "nbformat_minor": 1
}
